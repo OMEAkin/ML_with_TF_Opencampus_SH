{
  "cells": [
    {
      "cell_type": "markdown",
      "metadata": {
        "id": "view-in-github",
        "colab_type": "text"
      },
      "source": [
        "<a href=\"https://colab.research.google.com/github/OMEAkin/ML_with_TF_Opencampus_SH/blob/main/week_4/Wk4_CNN_Rock_Paper_Scissor.ipynb\" target=\"_parent\"><img src=\"https://colab.research.google.com/assets/colab-badge.svg\" alt=\"Open In Colab\"/></a>"
      ]
    },
    {
      "cell_type": "markdown",
      "source": [
        "# Rock - Paper - Scissor: Multi-class classification"
      ],
      "metadata": {
        "id": "p6hY5iWy_Uym"
      }
    },
    {
      "cell_type": "markdown",
      "metadata": {
        "id": "o7D0QjHqWAmR"
      },
      "source": [
        "# Task 1\n",
        "\n",
        "Download the Rock-Paper-Scissors dataset from kaggle.com.\n",
        "https://www.kaggle.com/datasets/drgfreeman/rockpaperscissors\n",
        "\n",
        "# Task 2\n",
        "\n",
        "Place the `rock-paper-scissors` folder in your Colab-Environment. (On the same level as this notebook.)\n",
        "\n",
        "```\n",
        "|\n",
        "|-- rock-paper-scissors\n",
        "|   |-- rock\n",
        "|   |-- paper\n",
        "|   `-- scissors\n",
        "`-- Assignment_CNN-Part-2.ipynb\n",
        "```\n",
        "\n",
        "# Task 3\n",
        "\n",
        "Set up a data generator and use it to build a training and a test dataset. Assign 20% of the data to your test dataset. This can be done by using the `flow_from_directory` function of the data generator.  Checkout the documentation for details:\n",
        "https://www.tensorflow.org/api_docs/python/tf/keras/preprocessing/image/ImageDataGenerator\n",
        "\n",
        "Tips:\n",
        "- Make sure to rescale the pixel values.\n",
        "- Make sure the dataset is set up for multi-class classification.\n",
        "\n",
        "# Task 4\n",
        "\n",
        "Build a model and train it. Your goal is to reach an validation accuracy of at least 90%.\n",
        "Try different model architectures, batch sizes, learning-rates and data augmentation techniques. Your only constraint is to train the model for just 3 epochs!\n",
        "\n",
        "Don't worry, if you fail to reach the 90% threshold. ;)\n",
        "\n",
        "Tips:\n",
        "- Ensure your model output propability scores for each class. (softmax)\n",
        "- Confirm you are using a loss function suitable for multi class classification.\n",
        "-"
      ]
    },
    {
      "cell_type": "markdown",
      "source": [
        "##1. IMPORT DATASET AND LOAD LIBRARIES"
      ],
      "metadata": {
        "id": "SEKjBeSf6NeF"
      }
    },
    {
      "cell_type": "code",
      "execution_count": null,
      "metadata": {
        "id": "bh3cBYpwWAmZ"
      },
      "outputs": [],
      "source": [
        "import tensorflow as tf\n",
        "from keras.preprocessing.image import ImageDataGenerator\n",
        "import matplotlib.pyplot as plt"
      ]
    },
    {
      "cell_type": "code",
      "source": [
        "#upload kaggle.json downloaded from Kaggle account\n",
        "from google.colab import files\n",
        "files.upload()\n",
        "\n",
        "!rm -r ~/.kaggle                          #remove any old kaggle directory\n",
        "!mkdir ~/.kaggle                          #make new kaggle directory\n",
        "!mv ./kaggle.json ~/.kaggle/              #move kaggle.json file to new kaggle directory\n",
        "!chmod 600 ~/.kaggle/kaggle.json          # ???"
      ],
      "metadata": {
        "colab": {
          "base_uri": "https://localhost:8080/",
          "height": 73
        },
        "id": "zClX6MHzqYc1",
        "outputId": "92981427-9a8c-4169-8398-505e78834515"
      },
      "execution_count": null,
      "outputs": [
        {
          "output_type": "display_data",
          "data": {
            "text/plain": [
              "<IPython.core.display.HTML object>"
            ],
            "text/html": [
              "\n",
              "     <input type=\"file\" id=\"files-645827d5-6616-49e2-b956-c61887eceaaf\" name=\"files[]\" multiple disabled\n",
              "        style=\"border:none\" />\n",
              "     <output id=\"result-645827d5-6616-49e2-b956-c61887eceaaf\">\n",
              "      Upload widget is only available when the cell has been executed in the\n",
              "      current browser session. Please rerun this cell to enable.\n",
              "      </output>\n",
              "      <script>// Copyright 2017 Google LLC\n",
              "//\n",
              "// Licensed under the Apache License, Version 2.0 (the \"License\");\n",
              "// you may not use this file except in compliance with the License.\n",
              "// You may obtain a copy of the License at\n",
              "//\n",
              "//      http://www.apache.org/licenses/LICENSE-2.0\n",
              "//\n",
              "// Unless required by applicable law or agreed to in writing, software\n",
              "// distributed under the License is distributed on an \"AS IS\" BASIS,\n",
              "// WITHOUT WARRANTIES OR CONDITIONS OF ANY KIND, either express or implied.\n",
              "// See the License for the specific language governing permissions and\n",
              "// limitations under the License.\n",
              "\n",
              "/**\n",
              " * @fileoverview Helpers for google.colab Python module.\n",
              " */\n",
              "(function(scope) {\n",
              "function span(text, styleAttributes = {}) {\n",
              "  const element = document.createElement('span');\n",
              "  element.textContent = text;\n",
              "  for (const key of Object.keys(styleAttributes)) {\n",
              "    element.style[key] = styleAttributes[key];\n",
              "  }\n",
              "  return element;\n",
              "}\n",
              "\n",
              "// Max number of bytes which will be uploaded at a time.\n",
              "const MAX_PAYLOAD_SIZE = 100 * 1024;\n",
              "\n",
              "function _uploadFiles(inputId, outputId) {\n",
              "  const steps = uploadFilesStep(inputId, outputId);\n",
              "  const outputElement = document.getElementById(outputId);\n",
              "  // Cache steps on the outputElement to make it available for the next call\n",
              "  // to uploadFilesContinue from Python.\n",
              "  outputElement.steps = steps;\n",
              "\n",
              "  return _uploadFilesContinue(outputId);\n",
              "}\n",
              "\n",
              "// This is roughly an async generator (not supported in the browser yet),\n",
              "// where there are multiple asynchronous steps and the Python side is going\n",
              "// to poll for completion of each step.\n",
              "// This uses a Promise to block the python side on completion of each step,\n",
              "// then passes the result of the previous step as the input to the next step.\n",
              "function _uploadFilesContinue(outputId) {\n",
              "  const outputElement = document.getElementById(outputId);\n",
              "  const steps = outputElement.steps;\n",
              "\n",
              "  const next = steps.next(outputElement.lastPromiseValue);\n",
              "  return Promise.resolve(next.value.promise).then((value) => {\n",
              "    // Cache the last promise value to make it available to the next\n",
              "    // step of the generator.\n",
              "    outputElement.lastPromiseValue = value;\n",
              "    return next.value.response;\n",
              "  });\n",
              "}\n",
              "\n",
              "/**\n",
              " * Generator function which is called between each async step of the upload\n",
              " * process.\n",
              " * @param {string} inputId Element ID of the input file picker element.\n",
              " * @param {string} outputId Element ID of the output display.\n",
              " * @return {!Iterable<!Object>} Iterable of next steps.\n",
              " */\n",
              "function* uploadFilesStep(inputId, outputId) {\n",
              "  const inputElement = document.getElementById(inputId);\n",
              "  inputElement.disabled = false;\n",
              "\n",
              "  const outputElement = document.getElementById(outputId);\n",
              "  outputElement.innerHTML = '';\n",
              "\n",
              "  const pickedPromise = new Promise((resolve) => {\n",
              "    inputElement.addEventListener('change', (e) => {\n",
              "      resolve(e.target.files);\n",
              "    });\n",
              "  });\n",
              "\n",
              "  const cancel = document.createElement('button');\n",
              "  inputElement.parentElement.appendChild(cancel);\n",
              "  cancel.textContent = 'Cancel upload';\n",
              "  const cancelPromise = new Promise((resolve) => {\n",
              "    cancel.onclick = () => {\n",
              "      resolve(null);\n",
              "    };\n",
              "  });\n",
              "\n",
              "  // Wait for the user to pick the files.\n",
              "  const files = yield {\n",
              "    promise: Promise.race([pickedPromise, cancelPromise]),\n",
              "    response: {\n",
              "      action: 'starting',\n",
              "    }\n",
              "  };\n",
              "\n",
              "  cancel.remove();\n",
              "\n",
              "  // Disable the input element since further picks are not allowed.\n",
              "  inputElement.disabled = true;\n",
              "\n",
              "  if (!files) {\n",
              "    return {\n",
              "      response: {\n",
              "        action: 'complete',\n",
              "      }\n",
              "    };\n",
              "  }\n",
              "\n",
              "  for (const file of files) {\n",
              "    const li = document.createElement('li');\n",
              "    li.append(span(file.name, {fontWeight: 'bold'}));\n",
              "    li.append(span(\n",
              "        `(${file.type || 'n/a'}) - ${file.size} bytes, ` +\n",
              "        `last modified: ${\n",
              "            file.lastModifiedDate ? file.lastModifiedDate.toLocaleDateString() :\n",
              "                                    'n/a'} - `));\n",
              "    const percent = span('0% done');\n",
              "    li.appendChild(percent);\n",
              "\n",
              "    outputElement.appendChild(li);\n",
              "\n",
              "    const fileDataPromise = new Promise((resolve) => {\n",
              "      const reader = new FileReader();\n",
              "      reader.onload = (e) => {\n",
              "        resolve(e.target.result);\n",
              "      };\n",
              "      reader.readAsArrayBuffer(file);\n",
              "    });\n",
              "    // Wait for the data to be ready.\n",
              "    let fileData = yield {\n",
              "      promise: fileDataPromise,\n",
              "      response: {\n",
              "        action: 'continue',\n",
              "      }\n",
              "    };\n",
              "\n",
              "    // Use a chunked sending to avoid message size limits. See b/62115660.\n",
              "    let position = 0;\n",
              "    do {\n",
              "      const length = Math.min(fileData.byteLength - position, MAX_PAYLOAD_SIZE);\n",
              "      const chunk = new Uint8Array(fileData, position, length);\n",
              "      position += length;\n",
              "\n",
              "      const base64 = btoa(String.fromCharCode.apply(null, chunk));\n",
              "      yield {\n",
              "        response: {\n",
              "          action: 'append',\n",
              "          file: file.name,\n",
              "          data: base64,\n",
              "        },\n",
              "      };\n",
              "\n",
              "      let percentDone = fileData.byteLength === 0 ?\n",
              "          100 :\n",
              "          Math.round((position / fileData.byteLength) * 100);\n",
              "      percent.textContent = `${percentDone}% done`;\n",
              "\n",
              "    } while (position < fileData.byteLength);\n",
              "  }\n",
              "\n",
              "  // All done.\n",
              "  yield {\n",
              "    response: {\n",
              "      action: 'complete',\n",
              "    }\n",
              "  };\n",
              "}\n",
              "\n",
              "scope.google = scope.google || {};\n",
              "scope.google.colab = scope.google.colab || {};\n",
              "scope.google.colab._files = {\n",
              "  _uploadFiles,\n",
              "  _uploadFilesContinue,\n",
              "};\n",
              "})(self);\n",
              "</script> "
            ]
          },
          "metadata": {}
        },
        {
          "output_type": "stream",
          "name": "stdout",
          "text": [
            "Saving kaggle.json to kaggle.json\n"
          ]
        }
      ]
    },
    {
      "cell_type": "code",
      "source": [
        "#copy API command od kaggle dataset\n",
        "!kaggle datasets download -d drgfreeman/rockpaperscissors"
      ],
      "metadata": {
        "colab": {
          "base_uri": "https://localhost:8080/"
        },
        "id": "CK9EqCqnoviy",
        "outputId": "8700a694-f356-481f-ea0e-8ceda154417c"
      },
      "execution_count": null,
      "outputs": [
        {
          "output_type": "stream",
          "name": "stdout",
          "text": [
            "rockpaperscissors.zip: Skipping, found more recently modified local copy (use --force to force download)\n"
          ]
        }
      ]
    },
    {
      "cell_type": "code",
      "source": [
        "import zipfile\n",
        "zip_ref = zipfile.ZipFile('rockpaperscissors.zip', 'r')\n",
        "zip_ref.extractall('/content')\n",
        "zip_ref.close()"
      ],
      "metadata": {
        "id": "68Wonfwyqmux"
      },
      "execution_count": null,
      "outputs": []
    },
    {
      "cell_type": "markdown",
      "source": [
        "##2. SET UP DIRECTORY, VISUALIZE DATA"
      ],
      "metadata": {
        "id": "7HFq2RBZ6hq1"
      }
    },
    {
      "cell_type": "code",
      "source": [
        "#define directories\n",
        "import os\n",
        "\n",
        "datadir = '/content/rps-cv-images'\n",
        "rock_dir = '/content/rps-cv-images/paper'\n",
        "paper_dir = '/content/rps-cv-images/rock'\n",
        "scissors_dir = '/content/rps-cv-images/scissors'"
      ],
      "metadata": {
        "id": "q3ttqvyqqnR0"
      },
      "execution_count": null,
      "outputs": []
    },
    {
      "cell_type": "code",
      "source": [
        "#check number of images in each directory\n",
        "print(f'Number of Rock Images:', len(os.listdir(rock_dir)))\n",
        "print(f'Number of Paper Images:', len(os.listdir(paper_dir)))\n",
        "print(f'Number of Scissors Images:', len(os.listdir(scissors_dir)))"
      ],
      "metadata": {
        "colab": {
          "base_uri": "https://localhost:8080/"
        },
        "id": "WOy5gTWvsI4J",
        "outputId": "ccce708a-2e51-4dec-e25e-fd2b62c7a1fc"
      },
      "execution_count": null,
      "outputs": [
        {
          "output_type": "stream",
          "name": "stdout",
          "text": [
            "Number of Rock Images: 712\n",
            "Number of Paper Images: 726\n",
            "Number of Scissors Images: 750\n"
          ]
        }
      ]
    },
    {
      "cell_type": "code",
      "source": [
        "#images for ...\n"
      ],
      "metadata": {
        "id": "aZFiBtSK4xh5"
      },
      "execution_count": null,
      "outputs": []
    },
    {
      "cell_type": "markdown",
      "source": [
        "##3. BUILD GENERATORS FOR TRAINING AND TESTING SET"
      ],
      "metadata": {
        "id": "xY5A7iom6uoG"
      }
    },
    {
      "cell_type": "code",
      "execution_count": null,
      "metadata": {
        "id": "oJtLVNwTWAmc"
      },
      "outputs": [],
      "source": [
        "BATCH_SIZE = 64\n",
        "IMAGE_HEIGHT = 200\n",
        "IMAGE_WIDTH = 300"
      ]
    },
    {
      "cell_type": "code",
      "execution_count": null,
      "metadata": {
        "colab": {
          "base_uri": "https://localhost:8080/"
        },
        "id": "T99bsk0_WAmd",
        "outputId": "17992b35-c810-44d2-c4fa-7a8e65c5dead"
      },
      "outputs": [
        {
          "output_type": "stream",
          "name": "stdout",
          "text": [
            "Found 2188 files belonging to 3 classes.\n",
            "Using 1751 files for training.\n",
            "Found 2188 files belonging to 3 classes.\n",
            "Using 437 files for validation.\n"
          ]
        }
      ],
      "source": [
        "# Set up the data generator and the train and test sets\n",
        "# Start code here ==>\n",
        "\n",
        "train_images = train_images = tf.keras.utils.image_dataset_from_directory(\n",
        "    datadir,\n",
        "    validation_split=0.2,\n",
        "    subset=\"training\",\n",
        "    seed=123,\n",
        "    image_size=(IMAGE_HEIGHT, IMAGE_WIDTH),\n",
        "    batch_size=BATCH_SIZE)\n",
        "\n",
        "test_images = tf.keras.utils.image_dataset_from_directory(\n",
        "    datadir,\n",
        "    validation_split=0.2,\n",
        "    subset=\"validation\",\n",
        "    seed=123,\n",
        "    image_size=(IMAGE_HEIGHT, IMAGE_WIDTH),\n",
        "    batch_size=BATCH_SIZE)\n",
        "\n",
        "# End code here <==\n",
        "\n",
        "# Expected output: (Your numbers of images might be different.)\n",
        "# Found 1751 images belonging to 3 classes.\n",
        "# Found 437 images belonging to 3 classes."
      ]
    },
    {
      "cell_type": "markdown",
      "source": [
        "##4. DATA PREPROCESSING"
      ],
      "metadata": {
        "id": "jDcH2GSN64Q9"
      }
    },
    {
      "cell_type": "code",
      "source": [
        "# data normalization and resizing\n",
        "resize_and_rescale = tf.keras.Sequential([\n",
        "    tf.keras.layers.Resizing(IMAGE_HEIGHT, IMAGE_WIDTH),\n",
        "    tf.keras.layers.Rescaling(1./255)\n",
        "])"
      ],
      "metadata": {
        "id": "tLn2iz_q5Ny-"
      },
      "execution_count": null,
      "outputs": []
    },
    {
      "cell_type": "code",
      "source": [
        "# data augmentation\n",
        "data_augmentation = tf.keras.Sequential([\n",
        "  tf.keras.layers.RandomFlip(\"horizontal_and_vertical\"),\n",
        "  tf.keras.layers.RandomRotation(0.2),\n",
        "  tf.keras.layers.RandomZoom(height_factor=(0.2,0.3),\n",
        "    width_factor=None,\n",
        "    fill_mode='wrap')\n",
        "])"
      ],
      "metadata": {
        "id": "iTxj54AN5qDo"
      },
      "execution_count": null,
      "outputs": []
    },
    {
      "cell_type": "markdown",
      "source": [
        "##5. MODEL BUILDING AND COMPLIATION + DEFINING CALLBACK"
      ],
      "metadata": {
        "id": "xePRH1tT6-TN"
      }
    },
    {
      "cell_type": "code",
      "execution_count": null,
      "metadata": {
        "id": "VwRmKCAOWAme"
      },
      "outputs": [],
      "source": [
        "# Build the model\n",
        "# Start code here ==>\n",
        "\n",
        "#baseline model\n",
        "def base_model():\n",
        "    model = tf.keras.Sequential([\n",
        "        resize_and_rescale,\n",
        "        tf.keras.layers.Conv2D(32, (3,3), activation=\"relu\"),\n",
        "        tf.keras.layers.MaxPooling2D(2,2),\n",
        "        tf.keras.layers.Flatten(),\n",
        "        tf.keras.layers.Dense(128, activation=\"relu\"),\n",
        "        tf.keras.layers.Dense(3, activation=\"softmax\") #multiclass classification w/ 3 classes\n",
        "    ])\n",
        "    return model\n",
        "\n",
        "#model with augmentation but an extra convolution and maxpooling layer\n",
        "def model1():\n",
        "    model = tf.keras.Sequential([\n",
        "        resize_and_rescale,\n",
        "        data_augmentation,\n",
        "        tf.keras.layers.Conv2D(32, (3,3), activation=\"relu\"),\n",
        "        tf.keras.layers.MaxPooling2D(2,2),\n",
        "        tf.keras.layers.Conv2D(32, (3,3), activation=\"relu\"),\n",
        "        tf.keras.layers.MaxPooling2D(2,2),\n",
        "        tf.keras.layers.Flatten(),\n",
        "        tf.keras.layers.Dense(128, activation=\"relu\"),\n",
        "        tf.keras.layers.Dense(3, activation=\"softmax\")\n",
        "    ])\n",
        "    return model\n",
        "\n",
        "# End code here <=="
      ]
    },
    {
      "cell_type": "code",
      "execution_count": null,
      "metadata": {
        "id": "PuIl_0XAWAmf"
      },
      "outputs": [],
      "source": [
        "# Compile the model and fit it\n",
        "# Start code here ==>\n",
        "model = base_model()\n",
        "model.compile(optimizer=\"adam\",\n",
        "              loss='sparse_categorical_crossentropy',\n",
        "              metrics=['accuracy'])\n",
        "\n",
        "# End code here <=="
      ]
    },
    {
      "cell_type": "code",
      "source": [
        "#model.summary()"
      ],
      "metadata": {
        "id": "tYj4GBFS8tlN"
      },
      "execution_count": null,
      "outputs": []
    },
    {
      "cell_type": "code",
      "source": [
        "# Define callback\n",
        "class AccuracyCallback(tf.keras.callbacks.Callback):\n",
        "      def on_epoch_end(self, epoch, logs={}):\n",
        "        if (logs.get('accuracy')> 0.90):\n",
        "          print(\"\\nReached 90% accuracy so training is cancelled\")\n",
        "          self.model.stop_training = True\n",
        "\n",
        "accuracy_callback = AccuracyCallback()"
      ],
      "metadata": {
        "id": "a1UCUyae8Zvn"
      },
      "execution_count": null,
      "outputs": []
    },
    {
      "cell_type": "markdown",
      "source": [
        "##6. FIT & EVALUATE MODEL"
      ],
      "metadata": {
        "id": "0SZGd25e_hgf"
      }
    },
    {
      "cell_type": "code",
      "source": [
        "# Fit model\n",
        "\n",
        "history = model.fit(train_images, validation_data=test_images,\n",
        "                    epochs=10, callbacks=[accuracy_callback] )"
      ],
      "metadata": {
        "colab": {
          "base_uri": "https://localhost:8080/"
        },
        "id": "-VvTD7cM7Nbt",
        "outputId": "63bb0c3c-fdb0-4fc1-9edb-9e2777f9d7ab"
      },
      "execution_count": null,
      "outputs": [
        {
          "output_type": "stream",
          "name": "stdout",
          "text": [
            "Epoch 1/10\n",
            "28/28 [==============================] - 155s 5s/step - loss: 13.5140 - accuracy: 0.4820 - val_loss: 0.7872 - val_accuracy: 0.7071\n",
            "Epoch 2/10\n",
            "28/28 [==============================] - 127s 4s/step - loss: 0.5839 - accuracy: 0.8104 - val_loss: 0.4317 - val_accuracy: 0.8375\n",
            "Epoch 3/10\n",
            "28/28 [==============================] - 120s 4s/step - loss: 0.3866 - accuracy: 0.8829 - val_loss: 0.3101 - val_accuracy: 0.9085\n",
            "Epoch 4/10\n",
            "28/28 [==============================] - ETA: 0s - loss: 0.2676 - accuracy: 0.9269\n",
            "Reached 90% accuracy so training is cancelled\n",
            "28/28 [==============================] - 119s 4s/step - loss: 0.2676 - accuracy: 0.9269 - val_loss: 0.2659 - val_accuracy: 0.9176\n"
          ]
        }
      ]
    },
    {
      "cell_type": "code",
      "source": [
        "#no test set\n",
        "#test_loss, test_accuracy = model.evaluate(test_images, test_labels)\n",
        "#print(f\"Test accuracy: {test_accuracy*100:.2f}%\")"
      ],
      "metadata": {
        "id": "I7BQ_p8eEUNo"
      },
      "execution_count": null,
      "outputs": []
    },
    {
      "cell_type": "markdown",
      "source": [
        "##7. VISUALIZATION OF MODEL ACCURACY"
      ],
      "metadata": {
        "id": "zGcgJSiu7Uw3"
      }
    },
    {
      "cell_type": "code",
      "execution_count": null,
      "metadata": {
        "colab": {
          "base_uri": "https://localhost:8080/",
          "height": 472
        },
        "id": "bHKojWLpWAmg",
        "outputId": "2938abcc-554a-4639-aa45-a33ce5f6afab"
      },
      "outputs": [
        {
          "output_type": "stream",
          "name": "stdout",
          "text": [
            "7/7 - 13s - loss: 0.2659 - accuracy: 0.9176 - 13s/epoch - 2s/step\n"
          ]
        },
        {
          "output_type": "display_data",
          "data": {
            "text/plain": [
              "<Figure size 640x480 with 1 Axes>"
            ],
            "image/png": "[encoded data removed]"
          },
          "metadata": {}
        }
      ],
      "source": [
        "#visulaization of accuracy\n",
        "plt.plot(history.history['accuracy'], label='accuracy')\n",
        "plt.plot(history.history['val_accuracy'], label = 'val_accuracy')\n",
        "plt.xlabel('Epoch')\n",
        "plt.ylabel('Accuracy')\n",
        "plt.ylim([0.5, 1])\n",
        "plt.legend(loc='lower right')\n",
        "\n",
        "test_loss, test_acc = model.evaluate(test_images, verbose=2)"
      ]
    }
  ],
  "metadata": {
    "kernelspec": {
      "display_name": "toolbox",
      "language": "python",
      "name": "python3"
    },
    "language_info": {
      "codemirror_mode": {
        "name": "ipython",
        "version": 3
      },
      "file_extension": ".py",
      "mimetype": "text/x-python",
      "name": "python",
      "nbconvert_exporter": "python",
      "pygments_lexer": "ipython3",
      "version": "3.10.4"
    },
    "colab": {
      "provenance": [],
      "include_colab_link": true
    }
  },
  "nbformat": 4,
  "nbformat_minor": 0
}